{
 "cells": [
  {
   "cell_type": "markdown",
   "metadata": {},
   "source": [
    "# The Poisson Distribution\n",
    "The poisson distribution has a special relation to the binomial distribution. The theoretical underpinnings are as follows. Imagine that we take a time period and break it into subintervals that are so small that at most one successful event could occur. We can then imagine that for any of these subintervals, a binomial distribution could apply where there is some probability of the event occuring p, a probability q=1-p that the event does not occur, and a probability of 0 that more then one event occurs. We assume that as we cut time into smaller and smaller intervals, the chance of a success should go down. If we take the limit of the binomial distribution as n goes to infinity (more and more subintervals that are progressively smaller), the result is the poisson distribution.\n",
    "\n",
    "Binomial Probability Distribution:  \n",
    "$p(y) = \\binom{n}{y}p^y(1-p)^{n-y}$\n",
    "  \n",
    "$\\lambda = n*p$  \n",
    "  \n",
    "Poisson Probability Distribution:\n",
    "$p(y) = \\frac{\\lambda^y}{y!}e^{-y}$\n",
    "  \n",
    "  \n",
    "Also note that labmda is the now the average number of successes that we anticipate in a given interval. (The probability p of success, times n the number of intervals.) This is then exactly how the poisson is used in practice, if I know the average number of occurences in a given interval, what is the probability that the actual number of occurences is slightly more, slightly less, far more or far less?"
   ]
  },
  {
   "cell_type": "markdown",
   "metadata": {},
   "source": [
    "# Poisson Function\n",
    "Write a function to calculate the probability that y events occur in a given interval given the average number of occurrences expected."
   ]
  },
  {
   "cell_type": "code",
   "execution_count": 7,
   "metadata": {},
   "outputs": [],
   "source": [
    "import numpy as np\n",
    "import math\n",
    "def poisson(y, mu):\n",
    "    \"\"\"mu (lambda above) is the average number of events in the given time interval.\n",
    "    You are calculating the probability that y events occur.\"\"\"\n",
    "    #Your code here\n",
    "    prob = (mu**y * np.exp(-mu))/math.factorial(y)\n",
    "    return prob"
   ]
  },
  {
   "cell_type": "markdown",
   "metadata": {},
   "source": [
    "# Reinventing the Wheel\n",
    "Check that your poisson function above works by checking its output for 1000 examples against scipys built in function:  \n",
    "scipy.stats.distributions.poisson.pmf"
   ]
  },
  {
   "cell_type": "code",
   "execution_count": 12,
   "metadata": {},
   "outputs": [],
   "source": [
    "from scipy.stats.distributions import poisson as poisson2"
   ]
  },
  {
   "cell_type": "code",
   "execution_count": 13,
   "metadata": {},
   "outputs": [
    {
     "name": "stdout",
     "output_type": "stream",
     "text": [
      "All values roughly equal: True\n"
     ]
    }
   ],
   "source": [
    "#generate test cases, y slightly off (but always greater then zero)\n",
    "mus = [np.random.uniform(low=0.5,high=7) for i in range(1000)]\n",
    "test_cases = [(int(mu+np.random.uniform(low=-0.4, high=3)), mu) for mu in mus]\n",
    "\n",
    "custom = [poisson(test_case[0], test_case[1]) for test_case in test_cases]\n",
    "pre_built = [poisson2.pmf(test_case[0], test_case[1]) for test_case in test_cases]\n",
    "\n",
    "def equals(a,b, precision=10**-5):\n",
    "    if np.abs(a-b)<=precision:\n",
    "        return True\n",
    "    else:\n",
    "        return False\n",
    "\n",
    "print('All values roughly equal:', all([equals(a, b) for a,b in list(zip(custom,pre_built))]))"
   ]
  },
  {
   "cell_type": "markdown",
   "metadata": {},
   "source": [
    "# Mail\n",
    "Let's say on average, you receive 4 pieces of mail per day. Draw a graph with the x-axis pieces of mail (0-20) and the y-axis the probabilitiy that you receive that many pieces of mail on a given day."
   ]
  },
  {
   "cell_type": "code",
   "execution_count": 14,
   "metadata": {},
   "outputs": [],
   "source": [
    "import matplotlib.pyplot as plt\n",
    "%matplotlib inline"
   ]
  },
  {
   "cell_type": "code",
   "execution_count": 23,
   "metadata": {},
   "outputs": [
    {
     "data": {
      "text/plain": [
       "([<matplotlib.axis.XTick at 0x1a1e6b9a90>,\n",
       "  <matplotlib.axis.XTick at 0x1a1e6b9400>,\n",
       "  <matplotlib.axis.XTick at 0x1a1e6b9320>,\n",
       "  <matplotlib.axis.XTick at 0x1a1e75aeb8>,\n",
       "  <matplotlib.axis.XTick at 0x1a1e7623c8>,\n",
       "  <matplotlib.axis.XTick at 0x1a1e762898>,\n",
       "  <matplotlib.axis.XTick at 0x1a1e762da0>,\n",
       "  <matplotlib.axis.XTick at 0x1a1e76b2e8>,\n",
       "  <matplotlib.axis.XTick at 0x1a1e76b7f0>,\n",
       "  <matplotlib.axis.XTick at 0x1a1e76bcf8>,\n",
       "  <matplotlib.axis.XTick at 0x1a1e773240>,\n",
       "  <matplotlib.axis.XTick at 0x1a1e76b5f8>,\n",
       "  <matplotlib.axis.XTick at 0x1a1e762978>,\n",
       "  <matplotlib.axis.XTick at 0x1a1e773400>,\n",
       "  <matplotlib.axis.XTick at 0x1a1e773be0>,\n",
       "  <matplotlib.axis.XTick at 0x1a1e77d160>,\n",
       "  <matplotlib.axis.XTick at 0x1a1e77d630>,\n",
       "  <matplotlib.axis.XTick at 0x1a1e77db38>,\n",
       "  <matplotlib.axis.XTick at 0x1a1e7850f0>,\n",
       "  <matplotlib.axis.XTick at 0x1a1e785588>,\n",
       "  <matplotlib.axis.XTick at 0x1a1e785a90>],\n",
       " <a list of 21 Text xticklabel objects>)"
      ]
     },
     "execution_count": 23,
     "metadata": {},
     "output_type": "execute_result"
    },
    {
     "data": {
      "image/png": "[encoded data removed]",
      "text/plain": [
       "<Figure size 432x288 with 1 Axes>"
      ]
     },
     "metadata": {},
     "output_type": "display_data"
    }
   ],
   "source": [
    "probs = [poisson(i,4) for i in range(21)]\n",
    "plt.scatter(range(21), probs)\n",
    "plt.title('Probabilities of receiving X pieces of mail on a given day given an average of 4')\n",
    "plt.xlabel('Pieces of Mail')\n",
    "plt.ylabel('Probability')\n",
    "plt.xticks(range(21))"
   ]
  },
  {
   "cell_type": "markdown",
   "metadata": {},
   "source": [
    "# Home Runs\n",
    "https://www.teamrankings.com/mlb/stat/home-runs-per-game  \n",
    "  \n",
    "On average, the Yankees hit 1.47 home runs per game in 2017. What was the probability that they hit 2 home runs in a game? 3?"
   ]
  },
  {
   "cell_type": "code",
   "execution_count": 39,
   "metadata": {},
   "outputs": [
    {
     "name": "stdout",
     "output_type": "stream",
     "text": [
      "The probability of the 2017 Yankees hitting 2 home runs in a game is 0.248\n",
      "The probability of the 2017 Yankees hitting 3 home runs in a game is 0.122\n"
     ]
    }
   ],
   "source": [
    "two_homers = poisson(2,1.47)\n",
    "three_homers = poisson(3,1.47)\n",
    "print('The probability of the 2017 Yankees hitting 2 home runs in a game is {}'.format(round(two_homers,3)))\n",
    "print('The probability of the 2017 Yankees hitting 3 home runs in a game is {}'.format(round(three_homers,3)))                                                                                   \n",
    "                                                                                       "
   ]
  },
  {
   "cell_type": "markdown",
   "metadata": {},
   "source": [
    "# Home Runs 2\n",
    "In the same year, the Red Sox only had 1.04 home runs per game in 2017. What was the probability that they hit 2 home runs in a game? 3?"
   ]
  },
  {
   "cell_type": "code",
   "execution_count": 40,
   "metadata": {},
   "outputs": [
    {
     "name": "stdout",
     "output_type": "stream",
     "text": [
      "The probability of the 2017 Red Sox hitting 2 home runs in a game is 0.191\n",
      "The probability of the 2017 Red Sox hitting 3 home runs in a game is 0.066\n"
     ]
    }
   ],
   "source": [
    "two_homers = poisson(2,1.04)\n",
    "three_homers = poisson(3,1.04)\n",
    "print('The probability of the 2017 Red Sox hitting 2 home runs in a game is {}'.format(round(two_homers,3)))\n",
    "print('The probability of the 2017 Red Sox hitting 3 home runs in a game is {}'.format(round(three_homers,3)))                                                                                   \n",
    "                                                                                       "
   ]
  },
  {
   "cell_type": "markdown",
   "metadata": {},
   "source": [
    "# Product Failures\n",
    "Airplane tires need replacement after about 1500 flights. Let's assume that on an average day, an airline has to replace 2.34 tires per day. If you want to have a 95% confidence that you'll have enough tires for needed repairs, how many should be on stock? (We want to have enough, but storing tires is also expensive!)"
   ]
  },
  {
   "cell_type": "code",
   "execution_count": 74,
   "metadata": {},
   "outputs": [
    {
     "name": "stdout",
     "output_type": "stream",
     "text": [
      "The chance of 0 tire(s) needing replacement is: 0.09633 - The cumulative probability is: 0.09633\n",
      "The chance of 1 tire(s) needing replacement is: 0.22541 - The cumulative probability is: 0.32173\n",
      "The chance of 2 tire(s) needing replacement is: 0.26373 - The cumulative probability is: 0.58546\n",
      "The chance of 3 tire(s) needing replacement is: 0.20571 - The cumulative probability is: 0.79117\n",
      "The chance of 4 tire(s) needing replacement is: 0.12034 - The cumulative probability is: 0.9115\n",
      "The chance of 5 tire(s) needing replacement is: 0.05632 - The cumulative probability is: 0.96782\n",
      "With 5 tires, you have a 0.9678225603285991 chance of being covered.\n"
     ]
    }
   ],
   "source": [
    "cum_sum = 0\n",
    "tires_needed = 0\n",
    "while cum_sum<0.95:\n",
    "    prob = poisson(tires_needed, 2.34)\n",
    "    cum_sum+=prob\n",
    "    print('The chance of {} tire(s) needing replacement is: {} - The cumulative probability is: {}'.format(tires_needed,np.round(prob,5),np.round(cum_sum,5)))\n",
    "    tires_needed +=1\n",
    "print('With {} tires, you have a {} chance of being covered.'.format(tires_needed-1, cum_sum))"
   ]
  },
  {
   "cell_type": "markdown",
   "metadata": {},
   "source": [
    "# Product Failures 2\n",
    "How many tires do you need on stock to have a 99% confidence that you'll have enough in stock? 99.9% confidence?"
   ]
  },
  {
   "cell_type": "code",
   "execution_count": 75,
   "metadata": {},
   "outputs": [
    {
     "name": "stdout",
     "output_type": "stream",
     "text": [
      "The chance of 0 tire(s) needing replacement is: 0.09633 - The cumulative probability is: 0.09633\n",
      "The chance of 1 tire(s) needing replacement is: 0.22541 - The cumulative probability is: 0.32173\n",
      "The chance of 2 tire(s) needing replacement is: 0.26373 - The cumulative probability is: 0.58546\n",
      "The chance of 3 tire(s) needing replacement is: 0.20571 - The cumulative probability is: 0.79117\n",
      "The chance of 4 tire(s) needing replacement is: 0.12034 - The cumulative probability is: 0.9115\n",
      "The chance of 5 tire(s) needing replacement is: 0.05632 - The cumulative probability is: 0.96782\n",
      "The chance of 6 tire(s) needing replacement is: 0.02196 - The cumulative probability is: 0.98979\n",
      "The chance of 7 tire(s) needing replacement is: 0.00734 - The cumulative probability is: 0.99713\n",
      "With 7 tires, you have a 0.9971289551756656 chance of being covered.\n"
     ]
    }
   ],
   "source": [
    "#99% confidence\n",
    "cum_sum = 0\n",
    "tires_needed = 0\n",
    "while cum_sum<0.99:\n",
    "    prob = poisson(tires_needed, 2.34)\n",
    "    cum_sum+=prob\n",
    "    print('The chance of {} tire(s) needing replacement is: {} - The cumulative probability is: {}'.format(tires_needed,np.round(prob,5),np.round(cum_sum,5)))\n",
    "    tires_needed +=1\n",
    "print('With {} tires, you have a {} chance of being covered.'.format(tires_needed-1, cum_sum))"
   ]
  },
  {
   "cell_type": "code",
   "execution_count": 77,
   "metadata": {},
   "outputs": [
    {
     "name": "stdout",
     "output_type": "stream",
     "text": [
      "The chance of 0 tire(s) needing replacement is: 0.09633 - The cumulative probability is: 0.09633\n",
      "The chance of 1 tire(s) needing replacement is: 0.22541 - The cumulative probability is: 0.32173\n",
      "The chance of 2 tire(s) needing replacement is: 0.26373 - The cumulative probability is: 0.58546\n",
      "The chance of 3 tire(s) needing replacement is: 0.20571 - The cumulative probability is: 0.79117\n",
      "The chance of 4 tire(s) needing replacement is: 0.12034 - The cumulative probability is: 0.9115\n",
      "The chance of 5 tire(s) needing replacement is: 0.05632 - The cumulative probability is: 0.96782\n",
      "The chance of 6 tire(s) needing replacement is: 0.02196 - The cumulative probability is: 0.98979\n",
      "The chance of 7 tire(s) needing replacement is: 0.00734 - The cumulative probability is: 0.99713\n",
      "The chance of 8 tire(s) needing replacement is: 0.00215 - The cumulative probability is: 0.99928\n",
      "With 8 tires, you have a 0.9992765742284573 chance of being covered.\n"
     ]
    }
   ],
   "source": [
    "#99.9% confidence\n",
    "cum_sum = 0\n",
    "tires_needed = 0\n",
    "while cum_sum<0.999:\n",
    "    prob = poisson(tires_needed, 2.34)\n",
    "    cum_sum+=prob\n",
    "    print('The chance of {} tire(s) needing replacement is: {} - The cumulative probability is: {}'.format(tires_needed,np.round(prob,5),np.round(cum_sum,5)))\n",
    "    tires_needed +=1\n",
    "print('With {} tires, you have a {} chance of being covered.'.format(tires_needed-1, cum_sum))"
   ]
  },
  {
   "cell_type": "code",
   "execution_count": null,
   "metadata": {},
   "outputs": [],
   "source": []
  }
 ],
 "metadata": {
  "kernelspec": {
   "display_name": "Python 3",
   "language": "python",
   "name": "python3"
  },
  "language_info": {
   "codemirror_mode": {
    "name": "ipython",
    "version": 3
   },
   "file_extension": ".py",
   "mimetype": "text/x-python",
   "name": "python",
   "nbconvert_exporter": "python",
   "pygments_lexer": "ipython3",
   "version": "3.6.4"
  }
 },
 "nbformat": 4,
 "nbformat_minor": 2
}
